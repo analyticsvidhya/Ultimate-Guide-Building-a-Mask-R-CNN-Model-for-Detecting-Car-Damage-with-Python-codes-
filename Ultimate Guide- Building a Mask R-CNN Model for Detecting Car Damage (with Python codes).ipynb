{
 "cells": [
  {
   "cell_type": "code",
   "execution_count": null,
   "metadata": {},
   "outputs": [],
   "source": [
    "class CustomDataset(utils.Dataset):\n",
    "\n",
    "def load_custom(self, dataset_dir, subset):\n",
    "\"\"\"Load a subset of the Balloon dataset.\n",
    "dataset_dir: Root directory of the dataset.\n",
    "subset: Subset to load: train or val\n",
    "\"\"\"\n",
    "# Add classes. We have only one class to add.\n",
    "self.add_class(\"damage\", 1, \"damage\")\n",
    "\n",
    "# Train or validation dataset?\n",
    "assert subset in [\"train\", \"val\"]\n",
    "dataset_dir = os.path.join(dataset_dir, subset)\n",
    "\n",
    "# We mostly care about the x and y coordinates of each region\n",
    "annotations1 = json.load(open(os.path.join(dataset_dir, \"via_region_data.json\")))\n",
    "annotations = list(annotations1.values()) # don't need the dict keys\n",
    "\n",
    "# The VIA tool saves images in the JSON even if they don't have any\n",
    "# annotations. Skip unannotated images.\n",
    "annotations = [a for a in annotations if a['regions']]\n",
    "\n",
    "# Add images\n",
    "for a in annotations:\n",
    "# Get the x, y coordinaets of points of the polygons that make up\n",
    "# the outline of each object instance. There are stores in the\n",
    "# shape_attributes (see json format above)\n",
    "polygons = [r['shape_attributes'] for r in a['regions'].values()]\n",
    "\n",
    "# load_mask() needs the image size to convert polygons to masks.\n",
    "image_path = os.path.join(dataset_dir, a['filename'])\n",
    "image = skimage.io.imread(image_path)\n",
    "height, width = image.shape[:2]\n",
    "\n",
    "self.add_image(\n",
    "\"damage\", ## for a single class just add the name here\n",
    "image_id=a['filename'], # use file name as a unique image id\n",
    "path=image_path,\n",
    "width=width, height=height,\n",
    "polygons=polygons)"
   ]
  },
  {
   "cell_type": "code",
   "execution_count": null,
   "metadata": {},
   "outputs": [],
   "source": [
    "#To train the model, run the below code block:\n",
    "\n",
    "## Train a new model starting from pre-trained COCO weights\n",
    "python3 custom.py train --dataset=/path/to/datasetfolder --weights=coco\n",
    "\n",
    "## Resume training a model that you had trained earlier\n",
    "python3 custom.py train --dataset=/path/to/datasetfolder --weights=last"
   ]
  }
 ],
 "metadata": {
  "kernelspec": {
   "display_name": "Python 3",
   "language": "python",
   "name": "python3"
  },
  "language_info": {
   "codemirror_mode": {
    "name": "ipython",
    "version": 3
   },
   "file_extension": ".py",
   "mimetype": "text/x-python",
   "name": "python",
   "nbconvert_exporter": "python",
   "pygments_lexer": "ipython3",
   "version": "3.7.3"
  }
 },
 "nbformat": 4,
 "nbformat_minor": 2
}
